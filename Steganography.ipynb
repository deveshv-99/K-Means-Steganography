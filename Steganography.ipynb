{
 "metadata": {
  "language_info": {
   "codemirror_mode": {
    "name": "ipython",
    "version": 3
   },
   "file_extension": ".py",
   "mimetype": "text/x-python",
   "name": "python",
   "nbconvert_exporter": "python",
   "pygments_lexer": "ipython3",
   "version": "3.8.2-final"
  },
  "orig_nbformat": 2,
  "kernelspec": {
   "name": "python3",
   "display_name": "Python 3.8.2 32-bit",
   "metadata": {
    "interpreter": {
     "hash": "ef75be6dc99bd67342af69019ca9eb6ace0827cff17def2c4750e4f0f7880b9c"
    }
   }
  }
 },
 "nbformat": 4,
 "nbformat_minor": 2,
 "cells": [
  {
   "cell_type": "code",
   "execution_count": 1,
   "metadata": {},
   "outputs": [],
   "source": [
    "import cv2\n",
    "import numpy as np\n",
    "import types\n",
    "import sys\n"
   ]
  },
  {
   "cell_type": "code",
   "execution_count": 2,
   "metadata": {
    "tags": []
   },
   "outputs": [],
   "source": [
    "#To get output separately in .txt file\n",
    "sys. stdout = open(\"test.txt\", \"w\")\n",
    "\n",
    "def toBinary(data):\n",
    "    if type(data)==str:\n",
    "        binaryData=\"\"\n",
    "        for i in data:\n",
    "            binaryData+='{0:08b}'.format(ord(i))\n",
    "        return binaryData\n",
    "    elif type(data)==int or type(data)==np.uint8:\n",
    "        return format(data,\"08b\")\n",
    "    elif type(data)==bytes or type(data)==np.ndarray:\n",
    "        return [format(i,\"08b\") for i in data]\n",
    "\n",
    "def hideMessage(image, data):\n",
    "    #adding NULL to indicate end of text\n",
    "    data+='\\0'\n",
    "    binaryData=toBinary(data)\n",
    "    \n",
    "    index=0\n",
    "    length=len(binaryData)\n",
    "\n",
    "    for values in image:\n",
    "        for pixel in values:\n",
    "            b,g,r=toBinary(pixel)\n",
    "            if index<length:\n",
    "                pixel[0]=int(b[:-1]+binaryData[index],2)\n",
    "                index+=1\n",
    "            if index<length:\n",
    "                pixel[1]=int(g[:-1]+binaryData[index],2)\n",
    "                index+=1\n",
    "            if index<length:\n",
    "                pixel[2]=int(r[:-1]+binaryData[index],2)\n",
    "                index+=1\n",
    "            if index>=length:\n",
    "                break\n",
    "    return image\n",
    "        "
   ]
  },
  {
   "cell_type": "code",
   "execution_count": 3,
   "metadata": {},
   "outputs": [],
   "source": [
    "def revealMessage(image):\n",
    "\n",
    "    binaryData=\"\"\n",
    "    for values in image:\n",
    "        for pixel in values:\n",
    "            b,g,r=toBinary(pixel)\n",
    "            binaryData+=b[-1]\n",
    "            binaryData+=g[-1]\n",
    "            binaryData+=r[-1]\n",
    "    byteData= [ binaryData[i:i+8] for i in range(0, len(binaryData),8)]\n",
    "    hiddenData=\"\"\n",
    "    for byte in byteData:\n",
    "        hiddenData+=chr(int(byte,2))\n",
    "        if hiddenData[-1]=='\\0':\n",
    "            break\n",
    "    return hiddenData[:-1]\n"
   ]
  },
  {
   "cell_type": "code",
   "execution_count": 4,
   "metadata": {},
   "outputs": [],
   "source": [
    "def encodeData():\n",
    "    #imageName=input(\"Enter image name\")\n",
    "    image=cv2.imread(\"Original Image.png\")\n",
    "    data=input(\"Enter Message to be Hidden\")\n",
    "\n",
    "    #newImageName=input(\"Enter name of new image\")\n",
    "    stegoImage=hideMessage(image,data)\n",
    "    cv2.imwrite(\"Stego Image.png\",stegoImage)\n",
    "def decodeData():\n",
    "    image=cv2.imread(\"Stego Image.png\")\n",
    "    image1=cv2.imread(\"Original Image.png\")\n",
    "    cv2.imshow(\"Original Image.png\",image1)\n",
    "    cv2.imshow(\"StegoImage\",image)\n",
    "    cv2.waitKey()\n",
    "    text=revealMessage(image)\n",
    "    print(\"Hidden Message is: \")\n",
    "    print(text)"
   ]
  },
  {
   "cell_type": "code",
   "execution_count": 1,
   "metadata": {
    "tags": []
   },
   "outputs": [
    {
     "output_type": "error",
     "ename": "NameError",
     "evalue": "name 'encodeData' is not defined",
     "traceback": [
      "\u001b[1;31m---------------------------------------------------------------------------\u001b[0m",
      "\u001b[1;31mNameError\u001b[0m                                 Traceback (most recent call last)",
      "\u001b[1;32m<ipython-input-1-0f189c19c9a6>\u001b[0m in \u001b[0;36m<module>\u001b[1;34m\u001b[0m\n\u001b[0;32m      2\u001b[0m     \u001b[0mencodeData\u001b[0m\u001b[1;33m(\u001b[0m\u001b[1;33m)\u001b[0m\u001b[1;33m\u001b[0m\u001b[1;33m\u001b[0m\u001b[0m\n\u001b[0;32m      3\u001b[0m     \u001b[0mdecodeData\u001b[0m\u001b[1;33m(\u001b[0m\u001b[1;33m)\u001b[0m\u001b[1;33m\u001b[0m\u001b[1;33m\u001b[0m\u001b[0m\n\u001b[1;32m----> 4\u001b[1;33m \u001b[0mStego\u001b[0m\u001b[1;33m(\u001b[0m\u001b[1;33m)\u001b[0m\u001b[1;33m\u001b[0m\u001b[1;33m\u001b[0m\u001b[0m\n\u001b[0m\u001b[0;32m      5\u001b[0m \u001b[0msys\u001b[0m\u001b[1;33m.\u001b[0m\u001b[0mstdout\u001b[0m\u001b[1;33m.\u001b[0m\u001b[0mclose\u001b[0m\u001b[1;33m(\u001b[0m\u001b[1;33m)\u001b[0m\u001b[1;33m\u001b[0m\u001b[1;33m\u001b[0m\u001b[0m\n",
      "\u001b[1;32m<ipython-input-1-0f189c19c9a6>\u001b[0m in \u001b[0;36mStego\u001b[1;34m()\u001b[0m\n\u001b[0;32m      1\u001b[0m \u001b[1;32mdef\u001b[0m \u001b[0mStego\u001b[0m\u001b[1;33m(\u001b[0m\u001b[1;33m)\u001b[0m\u001b[1;33m:\u001b[0m\u001b[1;33m\u001b[0m\u001b[1;33m\u001b[0m\u001b[0m\n\u001b[1;32m----> 2\u001b[1;33m     \u001b[0mencodeData\u001b[0m\u001b[1;33m(\u001b[0m\u001b[1;33m)\u001b[0m\u001b[1;33m\u001b[0m\u001b[1;33m\u001b[0m\u001b[0m\n\u001b[0m\u001b[0;32m      3\u001b[0m     \u001b[0mdecodeData\u001b[0m\u001b[1;33m(\u001b[0m\u001b[1;33m)\u001b[0m\u001b[1;33m\u001b[0m\u001b[1;33m\u001b[0m\u001b[0m\n\u001b[0;32m      4\u001b[0m \u001b[0mStego\u001b[0m\u001b[1;33m(\u001b[0m\u001b[1;33m)\u001b[0m\u001b[1;33m\u001b[0m\u001b[1;33m\u001b[0m\u001b[0m\n\u001b[0;32m      5\u001b[0m \u001b[0msys\u001b[0m\u001b[1;33m.\u001b[0m\u001b[0mstdout\u001b[0m\u001b[1;33m.\u001b[0m\u001b[0mclose\u001b[0m\u001b[1;33m(\u001b[0m\u001b[1;33m)\u001b[0m\u001b[1;33m\u001b[0m\u001b[1;33m\u001b[0m\u001b[0m\n",
      "\u001b[1;31mNameError\u001b[0m: name 'encodeData' is not defined"
     ]
    }
   ],
   "source": [
    "def Stego():\n",
    "    encodeData()\n",
    "    decodeData()\n",
    "Stego()\n",
    "sys.stdout.close()\n"
   ]
  },
  {
   "cell_type": "code",
   "execution_count": null,
   "metadata": {},
   "outputs": [],
   "source": []
  },
  {
   "cell_type": "code",
   "execution_count": null,
   "metadata": {},
   "outputs": [],
   "source": []
  }
 ]
}